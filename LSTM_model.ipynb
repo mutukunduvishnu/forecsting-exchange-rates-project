{
 "cells": [
  {
   "cell_type": "markdown",
   "metadata": {
    "id": "IkwHXkyji9-Y"
   },
   "source": [
    "# LSTM model "
   ]
  },
  {
   "cell_type": "code",
   "execution_count": 1,
   "metadata": {
    "ExecuteTime": {
     "end_time": "2021-08-20T09:32:00.073628Z",
     "start_time": "2021-08-20T09:31:59.648767Z"
    },
    "id": "S5rhP1dii9-b"
   },
   "outputs": [],
   "source": [
    "import pandas as pd"
   ]
  },
  {
   "cell_type": "code",
   "execution_count": 2,
   "metadata": {
    "ExecuteTime": {
     "end_time": "2021-08-20T09:32:03.001971Z",
     "start_time": "2021-08-20T09:32:00.075623Z"
    },
    "colab": {
     "base_uri": "https://localhost:8080/",
     "height": 203
    },
    "id": "LTWqC3fai9-d",
    "outputId": "a340339e-3f73-4294-d51f-3d6e4baf6c4f"
   },
   "outputs": [
    {
     "data": {
      "text/html": [
       "<div>\n",
       "<style scoped>\n",
       "    .dataframe tbody tr th:only-of-type {\n",
       "        vertical-align: middle;\n",
       "    }\n",
       "\n",
       "    .dataframe tbody tr th {\n",
       "        vertical-align: top;\n",
       "    }\n",
       "\n",
       "    .dataframe thead th {\n",
       "        text-align: right;\n",
       "    }\n",
       "</style>\n",
       "<table border=\"1\" class=\"dataframe\">\n",
       "  <thead>\n",
       "    <tr style=\"text-align: right;\">\n",
       "      <th></th>\n",
       "      <th>observation_date</th>\n",
       "      <th>DEXINUS</th>\n",
       "    </tr>\n",
       "  </thead>\n",
       "  <tbody>\n",
       "    <tr>\n",
       "      <th>0</th>\n",
       "      <td>1973-01-02</td>\n",
       "      <td>8.02</td>\n",
       "    </tr>\n",
       "    <tr>\n",
       "      <th>1</th>\n",
       "      <td>1973-01-03</td>\n",
       "      <td>8.02</td>\n",
       "    </tr>\n",
       "    <tr>\n",
       "      <th>2</th>\n",
       "      <td>1973-01-04</td>\n",
       "      <td>8.00</td>\n",
       "    </tr>\n",
       "    <tr>\n",
       "      <th>3</th>\n",
       "      <td>1973-01-05</td>\n",
       "      <td>8.01</td>\n",
       "    </tr>\n",
       "    <tr>\n",
       "      <th>4</th>\n",
       "      <td>1973-01-08</td>\n",
       "      <td>8.00</td>\n",
       "    </tr>\n",
       "  </tbody>\n",
       "</table>\n",
       "</div>"
      ],
      "text/plain": [
       "  observation_date  DEXINUS\n",
       "0       1973-01-02     8.02\n",
       "1       1973-01-03     8.02\n",
       "2       1973-01-04     8.00\n",
       "3       1973-01-05     8.01\n",
       "4       1973-01-08     8.00"
      ]
     },
     "execution_count": 2,
     "metadata": {},
     "output_type": "execute_result"
    }
   ],
   "source": [
    "ex_rate = pd.read_excel(\"C:/Users/Dell/Downloads/DEXINUS (1).xls\")\n",
    "ex_rate.head()"
   ]
  },
  {
   "cell_type": "code",
   "execution_count": 3,
   "metadata": {
    "ExecuteTime": {
     "end_time": "2021-08-20T09:32:03.489883Z",
     "start_time": "2021-08-20T09:32:03.003964Z"
    },
    "colab": {
     "base_uri": "https://localhost:8080/",
     "height": 203
    },
    "id": "8f-rbIdpi9-g",
    "outputId": "ab2fefec-f93c-4cdb-f730-531185b2c502"
   },
   "outputs": [
    {
     "data": {
      "text/html": [
       "<div>\n",
       "<style scoped>\n",
       "    .dataframe tbody tr th:only-of-type {\n",
       "        vertical-align: middle;\n",
       "    }\n",
       "\n",
       "    .dataframe tbody tr th {\n",
       "        vertical-align: top;\n",
       "    }\n",
       "\n",
       "    .dataframe thead th {\n",
       "        text-align: right;\n",
       "    }\n",
       "</style>\n",
       "<table border=\"1\" class=\"dataframe\">\n",
       "  <thead>\n",
       "    <tr style=\"text-align: right;\">\n",
       "      <th></th>\n",
       "      <th>Date</th>\n",
       "      <th>Dexinus</th>\n",
       "    </tr>\n",
       "  </thead>\n",
       "  <tbody>\n",
       "    <tr>\n",
       "      <th>0</th>\n",
       "      <td>1973-01-02</td>\n",
       "      <td>8.02</td>\n",
       "    </tr>\n",
       "    <tr>\n",
       "      <th>1</th>\n",
       "      <td>1973-01-03</td>\n",
       "      <td>8.02</td>\n",
       "    </tr>\n",
       "    <tr>\n",
       "      <th>2</th>\n",
       "      <td>1973-01-04</td>\n",
       "      <td>8.00</td>\n",
       "    </tr>\n",
       "    <tr>\n",
       "      <th>3</th>\n",
       "      <td>1973-01-05</td>\n",
       "      <td>8.01</td>\n",
       "    </tr>\n",
       "    <tr>\n",
       "      <th>4</th>\n",
       "      <td>1973-01-08</td>\n",
       "      <td>8.00</td>\n",
       "    </tr>\n",
       "  </tbody>\n",
       "</table>\n",
       "</div>"
      ],
      "text/plain": [
       "        Date  Dexinus\n",
       "0 1973-01-02     8.02\n",
       "1 1973-01-03     8.02\n",
       "2 1973-01-04     8.00\n",
       "3 1973-01-05     8.01\n",
       "4 1973-01-08     8.00"
      ]
     },
     "execution_count": 3,
     "metadata": {},
     "output_type": "execute_result"
    }
   ],
   "source": [
    "ex_rate.columns = ['Date','Dexinus']\n",
    "ex_rate.head()"
   ]
  },
  {
   "cell_type": "code",
   "execution_count": 4,
   "metadata": {
    "ExecuteTime": {
     "end_time": "2021-08-20T09:32:04.302042Z",
     "start_time": "2021-08-20T09:32:03.497432Z"
    },
    "colab": {
     "base_uri": "https://localhost:8080/",
     "height": 203
    },
    "id": "xT5lIlRBi9-h",
    "outputId": "d9652088-a47a-40fe-c112-99850797a5ac"
   },
   "outputs": [
    {
     "data": {
      "text/html": [
       "<div>\n",
       "<style scoped>\n",
       "    .dataframe tbody tr th:only-of-type {\n",
       "        vertical-align: middle;\n",
       "    }\n",
       "\n",
       "    .dataframe tbody tr th {\n",
       "        vertical-align: top;\n",
       "    }\n",
       "\n",
       "    .dataframe thead th {\n",
       "        text-align: right;\n",
       "    }\n",
       "</style>\n",
       "<table border=\"1\" class=\"dataframe\">\n",
       "  <thead>\n",
       "    <tr style=\"text-align: right;\">\n",
       "      <th></th>\n",
       "      <th>Date</th>\n",
       "      <th>Dexinus</th>\n",
       "    </tr>\n",
       "  </thead>\n",
       "  <tbody>\n",
       "    <tr>\n",
       "      <th>0</th>\n",
       "      <td>1973-01-02</td>\n",
       "      <td>8.02</td>\n",
       "    </tr>\n",
       "    <tr>\n",
       "      <th>1</th>\n",
       "      <td>1973-01-03</td>\n",
       "      <td>8.02</td>\n",
       "    </tr>\n",
       "    <tr>\n",
       "      <th>2</th>\n",
       "      <td>1973-01-04</td>\n",
       "      <td>8.00</td>\n",
       "    </tr>\n",
       "    <tr>\n",
       "      <th>3</th>\n",
       "      <td>1973-01-05</td>\n",
       "      <td>8.01</td>\n",
       "    </tr>\n",
       "    <tr>\n",
       "      <th>4</th>\n",
       "      <td>1973-01-08</td>\n",
       "      <td>8.00</td>\n",
       "    </tr>\n",
       "  </tbody>\n",
       "</table>\n",
       "</div>"
      ],
      "text/plain": [
       "        Date  Dexinus\n",
       "0 1973-01-02     8.02\n",
       "1 1973-01-03     8.02\n",
       "2 1973-01-04     8.00\n",
       "3 1973-01-05     8.01\n",
       "4 1973-01-08     8.00"
      ]
     },
     "execution_count": 4,
     "metadata": {},
     "output_type": "execute_result"
    }
   ],
   "source": [
    "ex_rate = ex_rate.interpolate(method ='linear')\n",
    "ex_rate.head()"
   ]
  },
  {
   "cell_type": "code",
   "execution_count": 5,
   "metadata": {
    "ExecuteTime": {
     "end_time": "2021-08-20T09:32:04.538447Z",
     "start_time": "2021-08-20T09:32:04.305073Z"
    },
    "colab": {
     "base_uri": "https://localhost:8080/",
     "height": 0
    },
    "id": "wtny0tlPi9-i",
    "outputId": "bc434606-60f0-46ce-b7c6-3841b3d68241"
   },
   "outputs": [
    {
     "data": {
      "text/plain": [
       "Date       0\n",
       "Dexinus    0\n",
       "dtype: int64"
      ]
     },
     "execution_count": 5,
     "metadata": {},
     "output_type": "execute_result"
    }
   ],
   "source": [
    "ex_rate.isnull().sum()"
   ]
  },
  {
   "cell_type": "code",
   "execution_count": 6,
   "metadata": {
    "ExecuteTime": {
     "end_time": "2021-08-20T09:32:08.049855Z",
     "start_time": "2021-08-20T09:32:04.540404Z"
    },
    "colab": {
     "base_uri": "https://localhost:8080/",
     "height": 285
    },
    "id": "3rceeGD4i9-k",
    "outputId": "07288c7d-385f-42d8-e542-e485e9db7f66"
   },
   "outputs": [
    {
     "data": {
      "text/plain": [
       "[<matplotlib.lines.Line2D at 0x27639092fd0>]"
      ]
     },
     "execution_count": 6,
     "metadata": {},
     "output_type": "execute_result"
    },
    {
     "data": {
      "image/png": "[encoded data removed]",
      "text/plain": [
       "<Figure size 432x288 with 1 Axes>"
      ]
     },
     "metadata": {
      "needs_background": "light"
     },
     "output_type": "display_data"
    }
   ],
   "source": [
    "import matplotlib.pyplot as plt\n",
    "plt.plot(ex_rate.Dexinus)"
   ]
  },
  {
   "cell_type": "code",
   "execution_count": 7,
   "metadata": {
    "ExecuteTime": {
     "end_time": "2021-08-20T09:32:10.593245Z",
     "start_time": "2021-08-20T09:32:08.051818Z"
    },
    "colab": {
     "base_uri": "https://localhost:8080/",
     "height": 0
    },
    "id": "WODXHfcri9-m",
    "outputId": "ad00f8ec-bfc7-4160-819e-10f6a7826202"
   },
   "outputs": [
    {
     "data": {
      "text/plain": [
       "array([[0.01189794],\n",
       "       [0.01189794],\n",
       "       [0.01161124],\n",
       "       ...,\n",
       "       [0.95957569],\n",
       "       [0.95971904],\n",
       "       [0.95971904]])"
      ]
     },
     "execution_count": 7,
     "metadata": {},
     "output_type": "execute_result"
    }
   ],
   "source": [
    "### LSTM are sensitive to the scale of the data. so we can apply MinMax scaler\n",
    "import numpy as np\n",
    "from sklearn.preprocessing import MinMaxScaler\n",
    "scaler = MinMaxScaler(feature_range=(0,1))\n",
    "rate = scaler.fit_transform(np.array(ex_rate.Dexinus).reshape(-1,1))\n",
    "rate"
   ]
  },
  {
   "cell_type": "code",
   "execution_count": 8,
   "metadata": {
    "ExecuteTime": {
     "end_time": "2021-08-20T09:32:48.798051Z",
     "start_time": "2021-08-20T09:32:10.593245Z"
    },
    "colab": {
     "base_uri": "https://localhost:8080/",
     "height": 0
    },
    "id": "xi5tcDZRi9-n",
    "outputId": "96c04945-28a5-4e5e-e6f6-0a3f5de48ee6"
   },
   "outputs": [
    {
     "data": {
      "text/plain": [
       "(12649, 1)"
      ]
     },
     "execution_count": 8,
     "metadata": {},
     "output_type": "execute_result"
    }
   ],
   "source": [
    "rate.shape"
   ]
  },
  {
   "cell_type": "code",
   "execution_count": 9,
   "metadata": {
    "ExecuteTime": {
     "end_time": "2021-08-20T09:32:50.128299Z",
     "start_time": "2021-08-20T09:32:48.798051Z"
    },
    "id": "EvxLJOCJi9-q"
   },
   "outputs": [],
   "source": [
    "### splitting the data into train and test\n",
    "training_size = int(len(rate)*0.90)\n",
    "test_size = len(rate)-training_size\n",
    "train_data,test_data = rate[0:training_size,:],rate[training_size:len(rate),:1]"
   ]
  },
  {
   "cell_type": "code",
   "execution_count": 10,
   "metadata": {
    "ExecuteTime": {
     "end_time": "2021-08-20T09:32:50.330555Z",
     "start_time": "2021-08-20T09:32:50.128299Z"
    },
    "colab": {
     "base_uri": "https://localhost:8080/",
     "height": 0
    },
    "id": "Cm4YZC_li9-q",
    "outputId": "1b9079c1-b9d5-4b1f-9af4-c2af85d1500f"
   },
   "outputs": [
    {
     "data": {
      "text/plain": [
       "(11384, 1265)"
      ]
     },
     "execution_count": 10,
     "metadata": {},
     "output_type": "execute_result"
    }
   ],
   "source": [
    "len(train_data), len(test_data)"
   ]
  },
  {
   "cell_type": "code",
   "execution_count": 11,
   "metadata": {
    "ExecuteTime": {
     "end_time": "2021-08-20T09:32:50.642990Z",
     "start_time": "2021-08-20T09:32:50.336543Z"
    },
    "id": "TEIQ2fTri9-r"
   },
   "outputs": [],
   "source": [
    "import numpy\n",
    "# converting an array of values into a dataset matrix\n",
    "def  create_dataset(dataset, time_step=1):\n",
    "    dataX, dataY = [], []\n",
    "    for i in range(len(dataset)-time_step-1):\n",
    "        a= dataset[i:(i+time_step), 0]\n",
    "        dataX.append(a)\n",
    "        dataY.append(dataset[i + time_step, 0])\n",
    "    return np.array(dataX),np.array(dataY)"
   ]
  },
  {
   "cell_type": "code",
   "execution_count": 12,
   "metadata": {
    "ExecuteTime": {
     "end_time": "2021-08-20T09:32:50.907790Z",
     "start_time": "2021-08-20T09:32:50.643894Z"
    },
    "id": "E2TRcoWhi9-s"
   },
   "outputs": [],
   "source": [
    "time_step = 100\n",
    "X_train, Y_train = create_dataset(train_data, time_step)\n",
    "X_test, Y_test = create_dataset(test_data, time_step)"
   ]
  },
  {
   "cell_type": "code",
   "execution_count": 13,
   "metadata": {
    "ExecuteTime": {
     "end_time": "2021-08-20T09:32:51.158121Z",
     "start_time": "2021-08-20T09:32:50.909785Z"
    },
    "colab": {
     "base_uri": "https://localhost:8080/",
     "height": 0
    },
    "id": "S3rzY1Doi9-t",
    "outputId": "656f0f05-b2be-4c3a-d1a8-5baaa3f43b65"
   },
   "outputs": [
    {
     "name": "stdout",
     "output_type": "stream",
     "text": [
      "(11283, 100)\n",
      "(11283,)\n"
     ]
    },
    {
     "data": {
      "text/plain": [
       "(None, None)"
      ]
     },
     "execution_count": 13,
     "metadata": {},
     "output_type": "execute_result"
    }
   ],
   "source": [
    "print(X_train.shape),print(Y_train.shape)"
   ]
  },
  {
   "cell_type": "code",
   "execution_count": 14,
   "metadata": {
    "ExecuteTime": {
     "end_time": "2021-08-20T09:32:51.346146Z",
     "start_time": "2021-08-20T09:32:51.160117Z"
    },
    "colab": {
     "base_uri": "https://localhost:8080/",
     "height": 0
    },
    "id": "g-CxuGvC1zmK",
    "outputId": "6c03fc54-eade-4178-b5c5-7ea5fb1253fc"
   },
   "outputs": [
    {
     "data": {
      "text/plain": [
       "((11283, 100), (11283,))"
      ]
     },
     "execution_count": 14,
     "metadata": {},
     "output_type": "execute_result"
    }
   ],
   "source": [
    "X_train.shape,Y_train.shape"
   ]
  },
  {
   "cell_type": "code",
   "execution_count": 15,
   "metadata": {
    "ExecuteTime": {
     "end_time": "2021-08-20T09:32:51.627447Z",
     "start_time": "2021-08-20T09:32:51.348138Z"
    },
    "colab": {
     "base_uri": "https://localhost:8080/",
     "height": 0
    },
    "id": "CyMkF3IPi9-u",
    "outputId": "8720f06b-5bc1-4167-cdf6-6345aaec5a24"
   },
   "outputs": [
    {
     "name": "stdout",
     "output_type": "stream",
     "text": [
      "(1164, 100)\n",
      "(1164,)\n"
     ]
    },
    {
     "data": {
      "text/plain": [
       "(None, None)"
      ]
     },
     "execution_count": 15,
     "metadata": {},
     "output_type": "execute_result"
    }
   ],
   "source": [
    "print(X_test.shape), print(Y_test.shape)"
   ]
  },
  {
   "cell_type": "code",
   "execution_count": 16,
   "metadata": {
    "ExecuteTime": {
     "end_time": "2021-08-20T09:32:51.878504Z",
     "start_time": "2021-08-20T09:32:51.631436Z"
    },
    "colab": {
     "base_uri": "https://localhost:8080/",
     "height": 0
    },
    "id": "4IZ1kE6f1qTj",
    "outputId": "e5c27003-a908-46f3-adce-da557ea21367"
   },
   "outputs": [
    {
     "data": {
      "text/plain": [
       "array([[0.85994839, 0.85865826, 0.859375  , ..., 0.8702695 , 0.86797592,\n",
       "        0.87342317],\n",
       "       [0.85865826, 0.859375  , 0.85751147, ..., 0.86797592, 0.87342317,\n",
       "        0.87284977],\n",
       "       [0.859375  , 0.85751147, 0.85708142, ..., 0.87342317, 0.87284977,\n",
       "        0.8752867 ],\n",
       "       ...,\n",
       "       [0.94266055, 0.94108372, 0.94237385, ..., 0.96000573, 0.95971904,\n",
       "        0.96029243],\n",
       "       [0.94108372, 0.94237385, 0.94122706, ..., 0.95971904, 0.96029243,\n",
       "        0.96301606],\n",
       "       [0.94237385, 0.94122706, 0.94194381, ..., 0.96029243, 0.96301606,\n",
       "        0.95957569]])"
      ]
     },
     "execution_count": 16,
     "metadata": {},
     "output_type": "execute_result"
    }
   ],
   "source": [
    "X_test"
   ]
  },
  {
   "cell_type": "code",
   "execution_count": 17,
   "metadata": {
    "ExecuteTime": {
     "end_time": "2021-08-20T09:32:52.113866Z",
     "start_time": "2021-08-20T09:32:51.882495Z"
    },
    "id": "qhBLELCKi9-v"
   },
   "outputs": [],
   "source": [
    "### Reshape input to be [Samples, time steps, features] which is required for LSTM\n",
    "X_train = X_train.reshape(X_train.shape[0], X_train.shape[1], 1)\n",
    "X_test = X_test.reshape(X_test.shape[0], X_test.shape[1], 1)"
   ]
  },
  {
   "cell_type": "code",
   "execution_count": 18,
   "metadata": {
    "ExecuteTime": {
     "end_time": "2021-08-20T09:32:54.552214Z",
     "start_time": "2021-08-20T09:32:52.121044Z"
    },
    "id": "h7Sivu43i9-v"
   },
   "outputs": [],
   "source": [
    "### create the LSTM model\n",
    "from tensorflow.keras.models import Sequential\n",
    "from tensorflow.keras.layers import Dense\n",
    "from tensorflow.keras.layers import LSTM"
   ]
  },
  {
   "cell_type": "code",
   "execution_count": 19,
   "metadata": {
    "ExecuteTime": {
     "end_time": "2021-08-20T09:32:55.321799Z",
     "start_time": "2021-08-20T09:32:54.552214Z"
    },
    "id": "5VS3M7WRi9-v"
   },
   "outputs": [],
   "source": [
    "model = Sequential()\n",
    "model.add(LSTM(150,return_sequences=True,input_shape=(100,1)))\n",
    "model.add(LSTM(150,return_sequences=True))\n",
    "model.add(LSTM(150))\n",
    "model.add(Dense(1))\n",
    "model.compile(loss='mean_squared_error',optimizer='adam')"
   ]
  },
  {
   "cell_type": "code",
   "execution_count": 20,
   "metadata": {
    "ExecuteTime": {
     "end_time": "2021-08-20T09:32:55.435892Z",
     "start_time": "2021-08-20T09:32:55.321799Z"
    },
    "colab": {
     "base_uri": "https://localhost:8080/",
     "height": 0
    },
    "id": "sK8ep1W1i9-w",
    "outputId": "f5a36dbd-83d2-43dc-c0ce-d493a987dbd0"
   },
   "outputs": [
    {
     "name": "stdout",
     "output_type": "stream",
     "text": [
      "Model: \"sequential\"\n",
      "_________________________________________________________________\n",
      "Layer (type)                 Output Shape              Param #   \n",
      "=================================================================\n",
      "lstm (LSTM)                  (None, 100, 150)          91200     \n",
      "_________________________________________________________________\n",
      "lstm_1 (LSTM)                (None, 100, 150)          180600    \n",
      "_________________________________________________________________\n",
      "lstm_2 (LSTM)                (None, 150)               180600    \n",
      "_________________________________________________________________\n",
      "dense (Dense)                (None, 1)                 151       \n",
      "=================================================================\n",
      "Total params: 452,551\n",
      "Trainable params: 452,551\n",
      "Non-trainable params: 0\n",
      "_________________________________________________________________\n"
     ]
    }
   ],
   "source": [
    "model.summary()"
   ]
  },
  {
   "cell_type": "code",
   "execution_count": 21,
   "metadata": {
    "ExecuteTime": {
     "end_time": "2021-08-20T09:45:47.326084Z",
     "start_time": "2021-08-20T09:32:55.438935Z"
    },
    "colab": {
     "base_uri": "https://localhost:8080/",
     "height": 0
    },
    "id": "pZC5x_r4i9-w",
    "outputId": "dc4358b1-03e5-483f-e12e-d0236ce6b63a"
   },
   "outputs": [
    {
     "name": "stdout",
     "output_type": "stream",
     "text": [
      "Epoch 1/10\n",
      "177/177 [==============================] - 91s 489ms/step - loss: 0.0030 - val_loss: 3.6546e-04\n",
      "Epoch 2/10\n",
      "177/177 [==============================] - 78s 441ms/step - loss: 4.8010e-05 - val_loss: 1.2532e-04\n",
      "Epoch 3/10\n",
      "177/177 [==============================] - 79s 444ms/step - loss: 4.7702e-05 - val_loss: 1.1007e-04\n",
      "Epoch 4/10\n",
      "177/177 [==============================] - 77s 433ms/step - loss: 4.5274e-05 - val_loss: 8.3990e-05\n",
      "Epoch 5/10\n",
      "177/177 [==============================] - 75s 425ms/step - loss: 5.1386e-05 - val_loss: 9.1347e-05\n",
      "Epoch 6/10\n",
      "177/177 [==============================] - 74s 419ms/step - loss: 5.0182e-05 - val_loss: 7.5214e-05\n",
      "Epoch 7/10\n",
      "177/177 [==============================] - 74s 420ms/step - loss: 4.5374e-05 - val_loss: 1.5746e-04\n",
      "Epoch 8/10\n",
      "177/177 [==============================] - 74s 421ms/step - loss: 5.1897e-05 - val_loss: 7.9897e-05\n",
      "Epoch 9/10\n",
      "177/177 [==============================] - 75s 421ms/step - loss: 4.1184e-05 - val_loss: 6.3001e-05\n",
      "Epoch 10/10\n",
      "177/177 [==============================] - 74s 420ms/step - loss: 5.1828e-05 - val_loss: 6.2589e-05\n"
     ]
    },
    {
     "data": {
      "text/plain": [
       "<tensorflow.python.keras.callbacks.History at 0x27644caa910>"
      ]
     },
     "execution_count": 21,
     "metadata": {},
     "output_type": "execute_result"
    }
   ],
   "source": [
    "model.fit(X_train,Y_train,validation_data=(X_test,Y_test),epochs = 10,batch_size = 64,verbose=1)"
   ]
  },
  {
   "cell_type": "code",
   "execution_count": 22,
   "metadata": {
    "ExecuteTime": {
     "end_time": "2021-08-20T09:46:21.238749Z",
     "start_time": "2021-08-20T09:45:47.328078Z"
    },
    "id": "XlR2bMGdi9-w"
   },
   "outputs": [],
   "source": [
    "### Lets do the prediction and check the performance metrics\n",
    "train_predict = model.predict(X_train)\n",
    "test_predict = model.predict(X_test)"
   ]
  },
  {
   "cell_type": "code",
   "execution_count": 23,
   "metadata": {
    "ExecuteTime": {
     "end_time": "2021-08-20T09:46:21.256409Z",
     "start_time": "2021-08-20T09:46:21.250439Z"
    },
    "id": "w-U-qsgwi9-x"
   },
   "outputs": [],
   "source": [
    "### Trnasform back to original form\n",
    "train_predict = scaler.inverse_transform(train_predict)\n",
    "test_predict = scaler.inverse_transform(test_predict)"
   ]
  },
  {
   "cell_type": "code",
   "execution_count": 24,
   "metadata": {
    "ExecuteTime": {
     "end_time": "2021-08-20T09:46:25.192261Z",
     "start_time": "2021-08-20T09:46:21.262395Z"
    },
    "colab": {
     "base_uri": "https://localhost:8080/",
     "height": 0
    },
    "id": "S6NSwsPg-0PS",
    "outputId": "cdd97e22-c7b2-45df-cd4d-497d374245c5"
   },
   "outputs": [
    {
     "data": {
      "text/plain": [
       "array([[ 7.5404196],\n",
       "       [ 7.5378957],\n",
       "       [ 7.536582 ],\n",
       "       ...,\n",
       "       [66.74847  ],\n",
       "       [66.74271  ],\n",
       "       [66.745224 ]], dtype=float32)"
      ]
     },
     "execution_count": 24,
     "metadata": {},
     "output_type": "execute_result"
    }
   ],
   "source": [
    "train_predict"
   ]
  },
  {
   "cell_type": "code",
   "execution_count": 25,
   "metadata": {
    "ExecuteTime": {
     "end_time": "2021-08-20T09:46:34.032836Z",
     "start_time": "2021-08-20T09:46:25.197248Z"
    },
    "colab": {
     "base_uri": "https://localhost:8080/",
     "height": 0
    },
    "id": "2O0iITHbi9-x",
    "outputId": "069e8e4c-0beb-40d9-d3d6-a67ff3522660"
   },
   "outputs": [
    {
     "data": {
      "text/plain": [
       "0.36311634026410405"
      ]
     },
     "execution_count": 25,
     "metadata": {},
     "output_type": "execute_result"
    }
   ],
   "source": [
    "### Calculate RMSE metrics\n",
    "import math\n",
    "from sklearn.metrics import mean_squared_error\n",
    "math.sqrt(mean_squared_error(scaler.inverse_transform(Y_train.reshape(1,-1)).reshape(-1,1),train_predict))"
   ]
  },
  {
   "cell_type": "code",
   "execution_count": 26,
   "metadata": {
    "ExecuteTime": {
     "end_time": "2021-08-20T09:46:39.115509Z",
     "start_time": "2021-08-20T09:46:34.034837Z"
    },
    "colab": {
     "base_uri": "https://localhost:8080/",
     "height": 0
    },
    "id": "lGhD1yA4i9-x",
    "outputId": "c88779ee-e090-4e9e-bdc4-a350c6015990"
   },
   "outputs": [
    {
     "data": {
      "text/plain": [
       "0.5518933832973049"
      ]
     },
     "execution_count": 26,
     "metadata": {},
     "output_type": "execute_result"
    }
   ],
   "source": [
    "math.sqrt(mean_squared_error(scaler.inverse_transform(Y_test.reshape(1,-1)).reshape(-1,1),test_predict))"
   ]
  },
  {
   "cell_type": "code",
   "execution_count": 27,
   "metadata": {
    "ExecuteTime": {
     "end_time": "2021-08-20T09:46:45.787364Z",
     "start_time": "2021-08-20T09:46:39.120494Z"
    }
   },
   "outputs": [],
   "source": [
    "def MAPE(org, pred):\n",
    "    temp = np.abs((org - pred)/org)*100\n",
    "    return np.mean(temp)"
   ]
  },
  {
   "cell_type": "code",
   "execution_count": 28,
   "metadata": {
    "ExecuteTime": {
     "end_time": "2021-08-20T09:46:49.445263Z",
     "start_time": "2021-08-20T09:46:45.787364Z"
    }
   },
   "outputs": [
    {
     "data": {
      "text/plain": [
       "0.5674128152444906"
      ]
     },
     "execution_count": 28,
     "metadata": {},
     "output_type": "execute_result"
    }
   ],
   "source": [
    "MAPE(scaler.inverse_transform(Y_test.reshape(1,-1)).reshape(-1,1),test_predict)"
   ]
  },
  {
   "cell_type": "code",
   "execution_count": 29,
   "metadata": {
    "ExecuteTime": {
     "end_time": "2021-08-20T09:47:01.948803Z",
     "start_time": "2021-08-20T09:46:49.446086Z"
    },
    "colab": {
     "base_uri": "https://localhost:8080/",
     "height": 322
    },
    "id": "JxBhG9dKi9-y",
    "outputId": "2cb27c82-585c-4551-dbba-de7df7237759"
   },
   "outputs": [
    {
     "data": {
      "image/png": "[encoded data removed]",
      "text/plain": [
       "<Figure size 864x360 with 1 Axes>"
      ]
     },
     "metadata": {
      "needs_background": "light"
     },
     "output_type": "display_data"
    }
   ],
   "source": [
    "### Plotting\n",
    "# shift train predictions for plotting\n",
    "look_back = 100\n",
    "trainPredictPlot = np.empty_like(rate)\n",
    "trainPredictPlot[:, :] = np.nan\n",
    "trainPredictPlot[look_back:len(train_predict)+look_back, :] = train_predict\n",
    "# shift test predictions for plotting\n",
    "testPredictPlot = np.empty_like(rate)\n",
    "testPredictPlot[:, :] = np.nan\n",
    "testPredictPlot[len(train_predict)+(look_back*2)+1:len(rate)-1, :] = test_predict\n",
    "# Plot baseline and predictions\n",
    "plt.figure(figsize=(12,5))\n",
    "plt.plot(scaler.inverse_transform(rate))\n",
    "plt.plot(trainPredictPlot)\n",
    "plt.plot(testPredictPlot)\n",
    "plt.show()"
   ]
  },
  {
   "cell_type": "code",
   "execution_count": 30,
   "metadata": {
    "ExecuteTime": {
     "end_time": "2021-08-20T09:47:07.991664Z",
     "start_time": "2021-08-20T09:47:01.950772Z"
    },
    "colab": {
     "base_uri": "https://localhost:8080/",
     "height": 0
    },
    "id": "w474NK0oi9-y",
    "outputId": "9c010cf2-e248-4df9-e0ed-4dca552d20a8"
   },
   "outputs": [
    {
     "data": {
      "text/plain": [
       "1265"
      ]
     },
     "execution_count": 30,
     "metadata": {},
     "output_type": "execute_result"
    }
   ],
   "source": [
    "len(test_data)"
   ]
  },
  {
   "cell_type": "code",
   "execution_count": 31,
   "metadata": {
    "ExecuteTime": {
     "end_time": "2021-08-20T09:47:16.833817Z",
     "start_time": "2021-08-20T09:47:07.998920Z"
    },
    "colab": {
     "base_uri": "https://localhost:8080/",
     "height": 0
    },
    "id": "SmK1zD25i9-y",
    "outputId": "4802e40f-2326-4d8b-829a-c3519cdb479e"
   },
   "outputs": [
    {
     "data": {
      "text/plain": [
       "(1, 100)"
      ]
     },
     "execution_count": 31,
     "metadata": {},
     "output_type": "execute_result"
    }
   ],
   "source": [
    "x_input = test_data[1265-100:].reshape(1,-1)\n",
    "x_input.shape"
   ]
  },
  {
   "cell_type": "code",
   "execution_count": 32,
   "metadata": {
    "ExecuteTime": {
     "end_time": "2021-08-20T09:47:33.021948Z",
     "start_time": "2021-08-20T09:47:16.840766Z"
    },
    "colab": {
     "base_uri": "https://localhost:8080/",
     "height": 0
    },
    "id": "JvEZ5wcIi9-z",
    "outputId": "246470b1-d534-4680-aa92-c0a8334bb71a"
   },
   "outputs": [
    {
     "data": {
      "text/plain": [
       "[0.9419438073394496,\n",
       " 0.9409403669724771,\n",
       " 0.9407970183486237,\n",
       " 0.938933486238532,\n",
       " 0.937643348623853,\n",
       " 0.9395068807339447,\n",
       " 0.9413704128440367,\n",
       " 0.9406536697247706,\n",
       " 0.9383600917431193,\n",
       " 0.9362098623853211]"
      ]
     },
     "execution_count": 32,
     "metadata": {},
     "output_type": "execute_result"
    }
   ],
   "source": [
    "temp_input = list(x_input)\n",
    "temp_input = temp_input[0].tolist()\n",
    "temp_input[:10]"
   ]
  },
  {
   "cell_type": "code",
   "execution_count": 33,
   "metadata": {
    "ExecuteTime": {
     "end_time": "2021-08-20T09:47:37.745797Z",
     "start_time": "2021-08-20T09:47:33.028891Z"
    },
    "colab": {
     "base_uri": "https://localhost:8080/",
     "height": 0
    },
    "id": "5ZeZovRdi9-z",
    "outputId": "9f586037-b9f0-4c62-dbd2-78b7a5a36a6b"
   },
   "outputs": [
    {
     "name": "stdout",
     "output_type": "stream",
     "text": [
      "[0.95296276]\n",
      "101\n",
      "1 day input [0.94094037 0.94079702 0.93893349 0.93764335 0.93950688 0.94137041\n",
      " 0.94065367 0.93836009 0.93620986 0.93592317 0.93534977 0.93448968\n",
      " 0.93965023 0.95656537 0.94911124 0.9475344  0.94122706 0.93950688\n",
      " 0.94638761 0.94796445 0.94180046 0.94137041 0.93893349 0.93922018\n",
      " 0.93735665 0.93649656 0.93706995 0.93807339 0.93549312 0.93434633\n",
      " 0.93649656 0.9375     0.93893349 0.93836009 0.93979358 0.94982798\n",
      " 0.94538417 0.94796445 0.94868119 0.9475344  0.95040138 0.96272936\n",
      " 0.96588303 0.96803326 0.97247706 0.97591743 0.97305046 0.96932339\n",
      " 0.96459289 0.97018349 0.97749427 0.97806766 0.97362385 0.97161697\n",
      " 0.9684633  0.96602638 0.96473624 0.9587156  0.95771216 0.95513188\n",
      " 0.95484518 0.95498853 0.95255161 0.94724771 0.94925459 0.94896789\n",
      " 0.95097477 0.95025803 0.94667431 0.94767775 0.94395069 0.94624427\n",
      " 0.94380734 0.94079702 0.94137041 0.94022362 0.93922018 0.9375\n",
      " 0.93506307 0.93800172 0.94094037 0.94294725 0.94352064 0.94151376\n",
      " 0.94051032 0.94237385 0.9430906  0.94481078 0.94681766 0.94567087\n",
      " 0.9483945  0.9478211  0.96000573 0.95971904 0.96029243 0.96301606\n",
      " 0.95957569 0.95971904 0.95971904 0.95296276]\n",
      "1 day output [[0.9542268]]\n",
      "2 day input [0.94079702 0.93893349 0.93764335 0.93950688 0.94137041 0.94065367\n",
      " 0.93836009 0.93620986 0.93592317 0.93534977 0.93448968 0.93965023\n",
      " 0.95656537 0.94911124 0.9475344  0.94122706 0.93950688 0.94638761\n",
      " 0.94796445 0.94180046 0.94137041 0.93893349 0.93922018 0.93735665\n",
      " 0.93649656 0.93706995 0.93807339 0.93549312 0.93434633 0.93649656\n",
      " 0.9375     0.93893349 0.93836009 0.93979358 0.94982798 0.94538417\n",
      " 0.94796445 0.94868119 0.9475344  0.95040138 0.96272936 0.96588303\n",
      " 0.96803326 0.97247706 0.97591743 0.97305046 0.96932339 0.96459289\n",
      " 0.97018349 0.97749427 0.97806766 0.97362385 0.97161697 0.9684633\n",
      " 0.96602638 0.96473624 0.9587156  0.95771216 0.95513188 0.95484518\n",
      " 0.95498853 0.95255161 0.94724771 0.94925459 0.94896789 0.95097477\n",
      " 0.95025803 0.94667431 0.94767775 0.94395069 0.94624427 0.94380734\n",
      " 0.94079702 0.94137041 0.94022362 0.93922018 0.9375     0.93506307\n",
      " 0.93800172 0.94094037 0.94294725 0.94352064 0.94151376 0.94051032\n",
      " 0.94237385 0.9430906  0.94481078 0.94681766 0.94567087 0.9483945\n",
      " 0.9478211  0.96000573 0.95971904 0.96029243 0.96301606 0.95957569\n",
      " 0.95971904 0.95971904 0.95296276 0.95422679]\n",
      "2 day output [[0.95505595]]\n",
      "3 day input [0.93893349 0.93764335 0.93950688 0.94137041 0.94065367 0.93836009\n",
      " 0.93620986 0.93592317 0.93534977 0.93448968 0.93965023 0.95656537\n",
      " 0.94911124 0.9475344  0.94122706 0.93950688 0.94638761 0.94796445\n",
      " 0.94180046 0.94137041 0.93893349 0.93922018 0.93735665 0.93649656\n",
      " 0.93706995 0.93807339 0.93549312 0.93434633 0.93649656 0.9375\n",
      " 0.93893349 0.93836009 0.93979358 0.94982798 0.94538417 0.94796445\n",
      " 0.94868119 0.9475344  0.95040138 0.96272936 0.96588303 0.96803326\n",
      " 0.97247706 0.97591743 0.97305046 0.96932339 0.96459289 0.97018349\n",
      " 0.97749427 0.97806766 0.97362385 0.97161697 0.9684633  0.96602638\n",
      " 0.96473624 0.9587156  0.95771216 0.95513188 0.95484518 0.95498853\n",
      " 0.95255161 0.94724771 0.94925459 0.94896789 0.95097477 0.95025803\n",
      " 0.94667431 0.94767775 0.94395069 0.94624427 0.94380734 0.94079702\n",
      " 0.94137041 0.94022362 0.93922018 0.9375     0.93506307 0.93800172\n",
      " 0.94094037 0.94294725 0.94352064 0.94151376 0.94051032 0.94237385\n",
      " 0.9430906  0.94481078 0.94681766 0.94567087 0.9483945  0.9478211\n",
      " 0.96000573 0.95971904 0.96029243 0.96301606 0.95957569 0.95971904\n",
      " 0.95971904 0.95296276 0.95422679 0.95505595]\n",
      "3 day output [[0.9555051]]\n",
      "4 day input [0.93764335 0.93950688 0.94137041 0.94065367 0.93836009 0.93620986\n",
      " 0.93592317 0.93534977 0.93448968 0.93965023 0.95656537 0.94911124\n",
      " 0.9475344  0.94122706 0.93950688 0.94638761 0.94796445 0.94180046\n",
      " 0.94137041 0.93893349 0.93922018 0.93735665 0.93649656 0.93706995\n",
      " 0.93807339 0.93549312 0.93434633 0.93649656 0.9375     0.93893349\n",
      " 0.93836009 0.93979358 0.94982798 0.94538417 0.94796445 0.94868119\n",
      " 0.9475344  0.95040138 0.96272936 0.96588303 0.96803326 0.97247706\n",
      " 0.97591743 0.97305046 0.96932339 0.96459289 0.97018349 0.97749427\n",
      " 0.97806766 0.97362385 0.97161697 0.9684633  0.96602638 0.96473624\n",
      " 0.9587156  0.95771216 0.95513188 0.95484518 0.95498853 0.95255161\n",
      " 0.94724771 0.94925459 0.94896789 0.95097477 0.95025803 0.94667431\n",
      " 0.94767775 0.94395069 0.94624427 0.94380734 0.94079702 0.94137041\n",
      " 0.94022362 0.93922018 0.9375     0.93506307 0.93800172 0.94094037\n",
      " 0.94294725 0.94352064 0.94151376 0.94051032 0.94237385 0.9430906\n",
      " 0.94481078 0.94681766 0.94567087 0.9483945  0.9478211  0.96000573\n",
      " 0.95971904 0.96029243 0.96301606 0.95957569 0.95971904 0.95971904\n",
      " 0.95296276 0.95422679 0.95505595 0.95550507]\n",
      "4 day output [[0.9556584]]\n",
      "5 day input [0.93950688 0.94137041 0.94065367 0.93836009 0.93620986 0.93592317\n",
      " 0.93534977 0.93448968 0.93965023 0.95656537 0.94911124 0.9475344\n",
      " 0.94122706 0.93950688 0.94638761 0.94796445 0.94180046 0.94137041\n",
      " 0.93893349 0.93922018 0.93735665 0.93649656 0.93706995 0.93807339\n",
      " 0.93549312 0.93434633 0.93649656 0.9375     0.93893349 0.93836009\n",
      " 0.93979358 0.94982798 0.94538417 0.94796445 0.94868119 0.9475344\n",
      " 0.95040138 0.96272936 0.96588303 0.96803326 0.97247706 0.97591743\n",
      " 0.97305046 0.96932339 0.96459289 0.97018349 0.97749427 0.97806766\n",
      " 0.97362385 0.97161697 0.9684633  0.96602638 0.96473624 0.9587156\n",
      " 0.95771216 0.95513188 0.95484518 0.95498853 0.95255161 0.94724771\n",
      " 0.94925459 0.94896789 0.95097477 0.95025803 0.94667431 0.94767775\n",
      " 0.94395069 0.94624427 0.94380734 0.94079702 0.94137041 0.94022362\n",
      " 0.93922018 0.9375     0.93506307 0.93800172 0.94094037 0.94294725\n",
      " 0.94352064 0.94151376 0.94051032 0.94237385 0.9430906  0.94481078\n",
      " 0.94681766 0.94567087 0.9483945  0.9478211  0.96000573 0.95971904\n",
      " 0.96029243 0.96301606 0.95957569 0.95971904 0.95971904 0.95296276\n",
      " 0.95422679 0.95505595 0.95550507 0.95565838]\n",
      "5 day output [[0.9556007]]\n",
      "6 day input [0.94137041 0.94065367 0.93836009 0.93620986 0.93592317 0.93534977\n",
      " 0.93448968 0.93965023 0.95656537 0.94911124 0.9475344  0.94122706\n",
      " 0.93950688 0.94638761 0.94796445 0.94180046 0.94137041 0.93893349\n",
      " 0.93922018 0.93735665 0.93649656 0.93706995 0.93807339 0.93549312\n",
      " 0.93434633 0.93649656 0.9375     0.93893349 0.93836009 0.93979358\n",
      " 0.94982798 0.94538417 0.94796445 0.94868119 0.9475344  0.95040138\n",
      " 0.96272936 0.96588303 0.96803326 0.97247706 0.97591743 0.97305046\n",
      " 0.96932339 0.96459289 0.97018349 0.97749427 0.97806766 0.97362385\n",
      " 0.97161697 0.9684633  0.96602638 0.96473624 0.9587156  0.95771216\n",
      " 0.95513188 0.95484518 0.95498853 0.95255161 0.94724771 0.94925459\n",
      " 0.94896789 0.95097477 0.95025803 0.94667431 0.94767775 0.94395069\n",
      " 0.94624427 0.94380734 0.94079702 0.94137041 0.94022362 0.93922018\n",
      " 0.9375     0.93506307 0.93800172 0.94094037 0.94294725 0.94352064\n",
      " 0.94151376 0.94051032 0.94237385 0.9430906  0.94481078 0.94681766\n",
      " 0.94567087 0.9483945  0.9478211  0.96000573 0.95971904 0.96029243\n",
      " 0.96301606 0.95957569 0.95971904 0.95971904 0.95296276 0.95422679\n",
      " 0.95505595 0.95550507 0.95565838 0.95560068]\n",
      "6 day output [[0.95540464]]\n",
      "7 day input [0.94065367 0.93836009 0.93620986 0.93592317 0.93534977 0.93448968\n",
      " 0.93965023 0.95656537 0.94911124 0.9475344  0.94122706 0.93950688\n",
      " 0.94638761 0.94796445 0.94180046 0.94137041 0.93893349 0.93922018\n",
      " 0.93735665 0.93649656 0.93706995 0.93807339 0.93549312 0.93434633\n",
      " 0.93649656 0.9375     0.93893349 0.93836009 0.93979358 0.94982798\n",
      " 0.94538417 0.94796445 0.94868119 0.9475344  0.95040138 0.96272936\n",
      " 0.96588303 0.96803326 0.97247706 0.97591743 0.97305046 0.96932339\n",
      " 0.96459289 0.97018349 0.97749427 0.97806766 0.97362385 0.97161697\n",
      " 0.9684633  0.96602638 0.96473624 0.9587156  0.95771216 0.95513188\n",
      " 0.95484518 0.95498853 0.95255161 0.94724771 0.94925459 0.94896789\n",
      " 0.95097477 0.95025803 0.94667431 0.94767775 0.94395069 0.94624427\n",
      " 0.94380734 0.94079702 0.94137041 0.94022362 0.93922018 0.9375\n",
      " 0.93506307 0.93800172 0.94094037 0.94294725 0.94352064 0.94151376\n",
      " 0.94051032 0.94237385 0.9430906  0.94481078 0.94681766 0.94567087\n",
      " 0.9483945  0.9478211  0.96000573 0.95971904 0.96029243 0.96301606\n",
      " 0.95957569 0.95971904 0.95971904 0.95296276 0.95422679 0.95505595\n",
      " 0.95550507 0.95565838 0.95560068 0.95540464]\n",
      "7 day output [[0.9551242]]\n",
      "8 day input [0.93836009 0.93620986 0.93592317 0.93534977 0.93448968 0.93965023\n",
      " 0.95656537 0.94911124 0.9475344  0.94122706 0.93950688 0.94638761\n",
      " 0.94796445 0.94180046 0.94137041 0.93893349 0.93922018 0.93735665\n",
      " 0.93649656 0.93706995 0.93807339 0.93549312 0.93434633 0.93649656\n",
      " 0.9375     0.93893349 0.93836009 0.93979358 0.94982798 0.94538417\n",
      " 0.94796445 0.94868119 0.9475344  0.95040138 0.96272936 0.96588303\n",
      " 0.96803326 0.97247706 0.97591743 0.97305046 0.96932339 0.96459289\n",
      " 0.97018349 0.97749427 0.97806766 0.97362385 0.97161697 0.9684633\n",
      " 0.96602638 0.96473624 0.9587156  0.95771216 0.95513188 0.95484518\n",
      " 0.95498853 0.95255161 0.94724771 0.94925459 0.94896789 0.95097477\n",
      " 0.95025803 0.94667431 0.94767775 0.94395069 0.94624427 0.94380734\n",
      " 0.94079702 0.94137041 0.94022362 0.93922018 0.9375     0.93506307\n",
      " 0.93800172 0.94094037 0.94294725 0.94352064 0.94151376 0.94051032\n",
      " 0.94237385 0.9430906  0.94481078 0.94681766 0.94567087 0.9483945\n",
      " 0.9478211  0.96000573 0.95971904 0.96029243 0.96301606 0.95957569\n",
      " 0.95971904 0.95971904 0.95296276 0.95422679 0.95505595 0.95550507\n",
      " 0.95565838 0.95560068 0.95540464 0.9551242 ]\n",
      "8 day output [[0.95479774]]\n",
      "9 day input [0.93620986 0.93592317 0.93534977 0.93448968 0.93965023 0.95656537\n",
      " 0.94911124 0.9475344  0.94122706 0.93950688 0.94638761 0.94796445\n",
      " 0.94180046 0.94137041 0.93893349 0.93922018 0.93735665 0.93649656\n",
      " 0.93706995 0.93807339 0.93549312 0.93434633 0.93649656 0.9375\n",
      " 0.93893349 0.93836009 0.93979358 0.94982798 0.94538417 0.94796445\n",
      " 0.94868119 0.9475344  0.95040138 0.96272936 0.96588303 0.96803326\n",
      " 0.97247706 0.97591743 0.97305046 0.96932339 0.96459289 0.97018349\n",
      " 0.97749427 0.97806766 0.97362385 0.97161697 0.9684633  0.96602638\n",
      " 0.96473624 0.9587156  0.95771216 0.95513188 0.95484518 0.95498853\n",
      " 0.95255161 0.94724771 0.94925459 0.94896789 0.95097477 0.95025803\n",
      " 0.94667431 0.94767775 0.94395069 0.94624427 0.94380734 0.94079702\n",
      " 0.94137041 0.94022362 0.93922018 0.9375     0.93506307 0.93800172\n",
      " 0.94094037 0.94294725 0.94352064 0.94151376 0.94051032 0.94237385\n",
      " 0.9430906  0.94481078 0.94681766 0.94567087 0.9483945  0.9478211\n",
      " 0.96000573 0.95971904 0.96029243 0.96301606 0.95957569 0.95971904\n",
      " 0.95971904 0.95296276 0.95422679 0.95505595 0.95550507 0.95565838\n",
      " 0.95560068 0.95540464 0.9551242  0.95479774]\n",
      "9 day output [[0.9544496]]\n",
      "10 day input [0.93592317 0.93534977 0.93448968 0.93965023 0.95656537 0.94911124\n",
      " 0.9475344  0.94122706 0.93950688 0.94638761 0.94796445 0.94180046\n",
      " 0.94137041 0.93893349 0.93922018 0.93735665 0.93649656 0.93706995\n",
      " 0.93807339 0.93549312 0.93434633 0.93649656 0.9375     0.93893349\n",
      " 0.93836009 0.93979358 0.94982798 0.94538417 0.94796445 0.94868119\n",
      " 0.9475344  0.95040138 0.96272936 0.96588303 0.96803326 0.97247706\n",
      " 0.97591743 0.97305046 0.96932339 0.96459289 0.97018349 0.97749427\n",
      " 0.97806766 0.97362385 0.97161697 0.9684633  0.96602638 0.96473624\n",
      " 0.9587156  0.95771216 0.95513188 0.95484518 0.95498853 0.95255161\n",
      " 0.94724771 0.94925459 0.94896789 0.95097477 0.95025803 0.94667431\n",
      " 0.94767775 0.94395069 0.94624427 0.94380734 0.94079702 0.94137041\n",
      " 0.94022362 0.93922018 0.9375     0.93506307 0.93800172 0.94094037\n",
      " 0.94294725 0.94352064 0.94151376 0.94051032 0.94237385 0.9430906\n",
      " 0.94481078 0.94681766 0.94567087 0.9483945  0.9478211  0.96000573\n",
      " 0.95971904 0.96029243 0.96301606 0.95957569 0.95971904 0.95971904\n",
      " 0.95296276 0.95422679 0.95505595 0.95550507 0.95565838 0.95560068\n",
      " 0.95540464 0.9551242  0.95479774 0.95444959]\n"
     ]
    },
    {
     "name": "stdout",
     "output_type": "stream",
     "text": [
      "10 day output [[0.95409286]]\n",
      "11 day input [0.93534977 0.93448968 0.93965023 0.95656537 0.94911124 0.9475344\n",
      " 0.94122706 0.93950688 0.94638761 0.94796445 0.94180046 0.94137041\n",
      " 0.93893349 0.93922018 0.93735665 0.93649656 0.93706995 0.93807339\n",
      " 0.93549312 0.93434633 0.93649656 0.9375     0.93893349 0.93836009\n",
      " 0.93979358 0.94982798 0.94538417 0.94796445 0.94868119 0.9475344\n",
      " 0.95040138 0.96272936 0.96588303 0.96803326 0.97247706 0.97591743\n",
      " 0.97305046 0.96932339 0.96459289 0.97018349 0.97749427 0.97806766\n",
      " 0.97362385 0.97161697 0.9684633  0.96602638 0.96473624 0.9587156\n",
      " 0.95771216 0.95513188 0.95484518 0.95498853 0.95255161 0.94724771\n",
      " 0.94925459 0.94896789 0.95097477 0.95025803 0.94667431 0.94767775\n",
      " 0.94395069 0.94624427 0.94380734 0.94079702 0.94137041 0.94022362\n",
      " 0.93922018 0.9375     0.93506307 0.93800172 0.94094037 0.94294725\n",
      " 0.94352064 0.94151376 0.94051032 0.94237385 0.9430906  0.94481078\n",
      " 0.94681766 0.94567087 0.9483945  0.9478211  0.96000573 0.95971904\n",
      " 0.96029243 0.96301606 0.95957569 0.95971904 0.95971904 0.95296276\n",
      " 0.95422679 0.95505595 0.95550507 0.95565838 0.95560068 0.95540464\n",
      " 0.9551242  0.95479774 0.95444959 0.95409286]\n",
      "11 day output [[0.95373553]]\n",
      "12 day input [0.93448968 0.93965023 0.95656537 0.94911124 0.9475344  0.94122706\n",
      " 0.93950688 0.94638761 0.94796445 0.94180046 0.94137041 0.93893349\n",
      " 0.93922018 0.93735665 0.93649656 0.93706995 0.93807339 0.93549312\n",
      " 0.93434633 0.93649656 0.9375     0.93893349 0.93836009 0.93979358\n",
      " 0.94982798 0.94538417 0.94796445 0.94868119 0.9475344  0.95040138\n",
      " 0.96272936 0.96588303 0.96803326 0.97247706 0.97591743 0.97305046\n",
      " 0.96932339 0.96459289 0.97018349 0.97749427 0.97806766 0.97362385\n",
      " 0.97161697 0.9684633  0.96602638 0.96473624 0.9587156  0.95771216\n",
      " 0.95513188 0.95484518 0.95498853 0.95255161 0.94724771 0.94925459\n",
      " 0.94896789 0.95097477 0.95025803 0.94667431 0.94767775 0.94395069\n",
      " 0.94624427 0.94380734 0.94079702 0.94137041 0.94022362 0.93922018\n",
      " 0.9375     0.93506307 0.93800172 0.94094037 0.94294725 0.94352064\n",
      " 0.94151376 0.94051032 0.94237385 0.9430906  0.94481078 0.94681766\n",
      " 0.94567087 0.9483945  0.9478211  0.96000573 0.95971904 0.96029243\n",
      " 0.96301606 0.95957569 0.95971904 0.95971904 0.95296276 0.95422679\n",
      " 0.95505595 0.95550507 0.95565838 0.95560068 0.95540464 0.9551242\n",
      " 0.95479774 0.95444959 0.95409286 0.95373553]\n",
      "12 day output [[0.9533802]]\n",
      "13 day input [0.93965023 0.95656537 0.94911124 0.9475344  0.94122706 0.93950688\n",
      " 0.94638761 0.94796445 0.94180046 0.94137041 0.93893349 0.93922018\n",
      " 0.93735665 0.93649656 0.93706995 0.93807339 0.93549312 0.93434633\n",
      " 0.93649656 0.9375     0.93893349 0.93836009 0.93979358 0.94982798\n",
      " 0.94538417 0.94796445 0.94868119 0.9475344  0.95040138 0.96272936\n",
      " 0.96588303 0.96803326 0.97247706 0.97591743 0.97305046 0.96932339\n",
      " 0.96459289 0.97018349 0.97749427 0.97806766 0.97362385 0.97161697\n",
      " 0.9684633  0.96602638 0.96473624 0.9587156  0.95771216 0.95513188\n",
      " 0.95484518 0.95498853 0.95255161 0.94724771 0.94925459 0.94896789\n",
      " 0.95097477 0.95025803 0.94667431 0.94767775 0.94395069 0.94624427\n",
      " 0.94380734 0.94079702 0.94137041 0.94022362 0.93922018 0.9375\n",
      " 0.93506307 0.93800172 0.94094037 0.94294725 0.94352064 0.94151376\n",
      " 0.94051032 0.94237385 0.9430906  0.94481078 0.94681766 0.94567087\n",
      " 0.9483945  0.9478211  0.96000573 0.95971904 0.96029243 0.96301606\n",
      " 0.95957569 0.95971904 0.95971904 0.95296276 0.95422679 0.95505595\n",
      " 0.95550507 0.95565838 0.95560068 0.95540464 0.9551242  0.95479774\n",
      " 0.95444959 0.95409286 0.95373553 0.95338023]\n",
      "13 day output [[0.9530282]]\n",
      "14 day input [0.95656537 0.94911124 0.9475344  0.94122706 0.93950688 0.94638761\n",
      " 0.94796445 0.94180046 0.94137041 0.93893349 0.93922018 0.93735665\n",
      " 0.93649656 0.93706995 0.93807339 0.93549312 0.93434633 0.93649656\n",
      " 0.9375     0.93893349 0.93836009 0.93979358 0.94982798 0.94538417\n",
      " 0.94796445 0.94868119 0.9475344  0.95040138 0.96272936 0.96588303\n",
      " 0.96803326 0.97247706 0.97591743 0.97305046 0.96932339 0.96459289\n",
      " 0.97018349 0.97749427 0.97806766 0.97362385 0.97161697 0.9684633\n",
      " 0.96602638 0.96473624 0.9587156  0.95771216 0.95513188 0.95484518\n",
      " 0.95498853 0.95255161 0.94724771 0.94925459 0.94896789 0.95097477\n",
      " 0.95025803 0.94667431 0.94767775 0.94395069 0.94624427 0.94380734\n",
      " 0.94079702 0.94137041 0.94022362 0.93922018 0.9375     0.93506307\n",
      " 0.93800172 0.94094037 0.94294725 0.94352064 0.94151376 0.94051032\n",
      " 0.94237385 0.9430906  0.94481078 0.94681766 0.94567087 0.9483945\n",
      " 0.9478211  0.96000573 0.95971904 0.96029243 0.96301606 0.95957569\n",
      " 0.95971904 0.95971904 0.95296276 0.95422679 0.95505595 0.95550507\n",
      " 0.95565838 0.95560068 0.95540464 0.9551242  0.95479774 0.95444959\n",
      " 0.95409286 0.95373553 0.95338023 0.9530282 ]\n",
      "14 day output [[0.9526787]]\n",
      "15 day input [0.94911124 0.9475344  0.94122706 0.93950688 0.94638761 0.94796445\n",
      " 0.94180046 0.94137041 0.93893349 0.93922018 0.93735665 0.93649656\n",
      " 0.93706995 0.93807339 0.93549312 0.93434633 0.93649656 0.9375\n",
      " 0.93893349 0.93836009 0.93979358 0.94982798 0.94538417 0.94796445\n",
      " 0.94868119 0.9475344  0.95040138 0.96272936 0.96588303 0.96803326\n",
      " 0.97247706 0.97591743 0.97305046 0.96932339 0.96459289 0.97018349\n",
      " 0.97749427 0.97806766 0.97362385 0.97161697 0.9684633  0.96602638\n",
      " 0.96473624 0.9587156  0.95771216 0.95513188 0.95484518 0.95498853\n",
      " 0.95255161 0.94724771 0.94925459 0.94896789 0.95097477 0.95025803\n",
      " 0.94667431 0.94767775 0.94395069 0.94624427 0.94380734 0.94079702\n",
      " 0.94137041 0.94022362 0.93922018 0.9375     0.93506307 0.93800172\n",
      " 0.94094037 0.94294725 0.94352064 0.94151376 0.94051032 0.94237385\n",
      " 0.9430906  0.94481078 0.94681766 0.94567087 0.9483945  0.9478211\n",
      " 0.96000573 0.95971904 0.96029243 0.96301606 0.95957569 0.95971904\n",
      " 0.95971904 0.95296276 0.95422679 0.95505595 0.95550507 0.95565838\n",
      " 0.95560068 0.95540464 0.9551242  0.95479774 0.95444959 0.95409286\n",
      " 0.95373553 0.95338023 0.9530282  0.95267868]\n",
      "15 day output [[0.9523316]]\n",
      "16 day input [0.9475344  0.94122706 0.93950688 0.94638761 0.94796445 0.94180046\n",
      " 0.94137041 0.93893349 0.93922018 0.93735665 0.93649656 0.93706995\n",
      " 0.93807339 0.93549312 0.93434633 0.93649656 0.9375     0.93893349\n",
      " 0.93836009 0.93979358 0.94982798 0.94538417 0.94796445 0.94868119\n",
      " 0.9475344  0.95040138 0.96272936 0.96588303 0.96803326 0.97247706\n",
      " 0.97591743 0.97305046 0.96932339 0.96459289 0.97018349 0.97749427\n",
      " 0.97806766 0.97362385 0.97161697 0.9684633  0.96602638 0.96473624\n",
      " 0.9587156  0.95771216 0.95513188 0.95484518 0.95498853 0.95255161\n",
      " 0.94724771 0.94925459 0.94896789 0.95097477 0.95025803 0.94667431\n",
      " 0.94767775 0.94395069 0.94624427 0.94380734 0.94079702 0.94137041\n",
      " 0.94022362 0.93922018 0.9375     0.93506307 0.93800172 0.94094037\n",
      " 0.94294725 0.94352064 0.94151376 0.94051032 0.94237385 0.9430906\n",
      " 0.94481078 0.94681766 0.94567087 0.9483945  0.9478211  0.96000573\n",
      " 0.95971904 0.96029243 0.96301606 0.95957569 0.95971904 0.95971904\n",
      " 0.95296276 0.95422679 0.95505595 0.95550507 0.95565838 0.95560068\n",
      " 0.95540464 0.9551242  0.95479774 0.95444959 0.95409286 0.95373553\n",
      " 0.95338023 0.9530282  0.95267868 0.9523316 ]\n",
      "16 day output [[0.9519865]]\n",
      "17 day input [0.94122706 0.93950688 0.94638761 0.94796445 0.94180046 0.94137041\n",
      " 0.93893349 0.93922018 0.93735665 0.93649656 0.93706995 0.93807339\n",
      " 0.93549312 0.93434633 0.93649656 0.9375     0.93893349 0.93836009\n",
      " 0.93979358 0.94982798 0.94538417 0.94796445 0.94868119 0.9475344\n",
      " 0.95040138 0.96272936 0.96588303 0.96803326 0.97247706 0.97591743\n",
      " 0.97305046 0.96932339 0.96459289 0.97018349 0.97749427 0.97806766\n",
      " 0.97362385 0.97161697 0.9684633  0.96602638 0.96473624 0.9587156\n",
      " 0.95771216 0.95513188 0.95484518 0.95498853 0.95255161 0.94724771\n",
      " 0.94925459 0.94896789 0.95097477 0.95025803 0.94667431 0.94767775\n",
      " 0.94395069 0.94624427 0.94380734 0.94079702 0.94137041 0.94022362\n",
      " 0.93922018 0.9375     0.93506307 0.93800172 0.94094037 0.94294725\n",
      " 0.94352064 0.94151376 0.94051032 0.94237385 0.9430906  0.94481078\n",
      " 0.94681766 0.94567087 0.9483945  0.9478211  0.96000573 0.95971904\n",
      " 0.96029243 0.96301606 0.95957569 0.95971904 0.95971904 0.95296276\n",
      " 0.95422679 0.95505595 0.95550507 0.95565838 0.95560068 0.95540464\n",
      " 0.9551242  0.95479774 0.95444959 0.95409286 0.95373553 0.95338023\n",
      " 0.9530282  0.95267868 0.9523316  0.95198649]\n",
      "17 day output [[0.95164204]]\n",
      "18 day input [0.93950688 0.94638761 0.94796445 0.94180046 0.94137041 0.93893349\n",
      " 0.93922018 0.93735665 0.93649656 0.93706995 0.93807339 0.93549312\n",
      " 0.93434633 0.93649656 0.9375     0.93893349 0.93836009 0.93979358\n",
      " 0.94982798 0.94538417 0.94796445 0.94868119 0.9475344  0.95040138\n",
      " 0.96272936 0.96588303 0.96803326 0.97247706 0.97591743 0.97305046\n",
      " 0.96932339 0.96459289 0.97018349 0.97749427 0.97806766 0.97362385\n",
      " 0.97161697 0.9684633  0.96602638 0.96473624 0.9587156  0.95771216\n",
      " 0.95513188 0.95484518 0.95498853 0.95255161 0.94724771 0.94925459\n",
      " 0.94896789 0.95097477 0.95025803 0.94667431 0.94767775 0.94395069\n",
      " 0.94624427 0.94380734 0.94079702 0.94137041 0.94022362 0.93922018\n",
      " 0.9375     0.93506307 0.93800172 0.94094037 0.94294725 0.94352064\n",
      " 0.94151376 0.94051032 0.94237385 0.9430906  0.94481078 0.94681766\n",
      " 0.94567087 0.9483945  0.9478211  0.96000573 0.95971904 0.96029243\n",
      " 0.96301606 0.95957569 0.95971904 0.95971904 0.95296276 0.95422679\n",
      " 0.95505595 0.95550507 0.95565838 0.95560068 0.95540464 0.9551242\n",
      " 0.95479774 0.95444959 0.95409286 0.95373553 0.95338023 0.9530282\n",
      " 0.95267868 0.9523316  0.95198649 0.95164204]\n",
      "18 day output [[0.9512993]]\n",
      "19 day input [0.94638761 0.94796445 0.94180046 0.94137041 0.93893349 0.93922018\n",
      " 0.93735665 0.93649656 0.93706995 0.93807339 0.93549312 0.93434633\n",
      " 0.93649656 0.9375     0.93893349 0.93836009 0.93979358 0.94982798\n",
      " 0.94538417 0.94796445 0.94868119 0.9475344  0.95040138 0.96272936\n",
      " 0.96588303 0.96803326 0.97247706 0.97591743 0.97305046 0.96932339\n",
      " 0.96459289 0.97018349 0.97749427 0.97806766 0.97362385 0.97161697\n",
      " 0.9684633  0.96602638 0.96473624 0.9587156  0.95771216 0.95513188\n",
      " 0.95484518 0.95498853 0.95255161 0.94724771 0.94925459 0.94896789\n",
      " 0.95097477 0.95025803 0.94667431 0.94767775 0.94395069 0.94624427\n",
      " 0.94380734 0.94079702 0.94137041 0.94022362 0.93922018 0.9375\n",
      " 0.93506307 0.93800172 0.94094037 0.94294725 0.94352064 0.94151376\n",
      " 0.94051032 0.94237385 0.9430906  0.94481078 0.94681766 0.94567087\n",
      " 0.9483945  0.9478211  0.96000573 0.95971904 0.96029243 0.96301606\n",
      " 0.95957569 0.95971904 0.95971904 0.95296276 0.95422679 0.95505595\n",
      " 0.95550507 0.95565838 0.95560068 0.95540464 0.9551242  0.95479774\n",
      " 0.95444959 0.95409286 0.95373553 0.95338023 0.9530282  0.95267868\n",
      " 0.9523316  0.95198649 0.95164204 0.95129931]\n",
      "19 day output [[0.9509571]]\n",
      "20 day input [0.94796445 0.94180046 0.94137041 0.93893349 0.93922018 0.93735665\n",
      " 0.93649656 0.93706995 0.93807339 0.93549312 0.93434633 0.93649656\n",
      " 0.9375     0.93893349 0.93836009 0.93979358 0.94982798 0.94538417\n",
      " 0.94796445 0.94868119 0.9475344  0.95040138 0.96272936 0.96588303\n",
      " 0.96803326 0.97247706 0.97591743 0.97305046 0.96932339 0.96459289\n",
      " 0.97018349 0.97749427 0.97806766 0.97362385 0.97161697 0.9684633\n",
      " 0.96602638 0.96473624 0.9587156  0.95771216 0.95513188 0.95484518\n",
      " 0.95498853 0.95255161 0.94724771 0.94925459 0.94896789 0.95097477\n",
      " 0.95025803 0.94667431 0.94767775 0.94395069 0.94624427 0.94380734\n",
      " 0.94079702 0.94137041 0.94022362 0.93922018 0.9375     0.93506307\n",
      " 0.93800172 0.94094037 0.94294725 0.94352064 0.94151376 0.94051032\n",
      " 0.94237385 0.9430906  0.94481078 0.94681766 0.94567087 0.9483945\n",
      " 0.9478211  0.96000573 0.95971904 0.96029243 0.96301606 0.95957569\n",
      " 0.95971904 0.95971904 0.95296276 0.95422679 0.95505595 0.95550507\n",
      " 0.95565838 0.95560068 0.95540464 0.9551242  0.95479774 0.95444959\n",
      " 0.95409286 0.95373553 0.95338023 0.9530282  0.95267868 0.9523316\n",
      " 0.95198649 0.95164204 0.95129931 0.95095712]\n"
     ]
    },
    {
     "name": "stdout",
     "output_type": "stream",
     "text": [
      "20 day output [[0.95061606]]\n",
      "21 day input [0.94180046 0.94137041 0.93893349 0.93922018 0.93735665 0.93649656\n",
      " 0.93706995 0.93807339 0.93549312 0.93434633 0.93649656 0.9375\n",
      " 0.93893349 0.93836009 0.93979358 0.94982798 0.94538417 0.94796445\n",
      " 0.94868119 0.9475344  0.95040138 0.96272936 0.96588303 0.96803326\n",
      " 0.97247706 0.97591743 0.97305046 0.96932339 0.96459289 0.97018349\n",
      " 0.97749427 0.97806766 0.97362385 0.97161697 0.9684633  0.96602638\n",
      " 0.96473624 0.9587156  0.95771216 0.95513188 0.95484518 0.95498853\n",
      " 0.95255161 0.94724771 0.94925459 0.94896789 0.95097477 0.95025803\n",
      " 0.94667431 0.94767775 0.94395069 0.94624427 0.94380734 0.94079702\n",
      " 0.94137041 0.94022362 0.93922018 0.9375     0.93506307 0.93800172\n",
      " 0.94094037 0.94294725 0.94352064 0.94151376 0.94051032 0.94237385\n",
      " 0.9430906  0.94481078 0.94681766 0.94567087 0.9483945  0.9478211\n",
      " 0.96000573 0.95971904 0.96029243 0.96301606 0.95957569 0.95971904\n",
      " 0.95971904 0.95296276 0.95422679 0.95505595 0.95550507 0.95565838\n",
      " 0.95560068 0.95540464 0.9551242  0.95479774 0.95444959 0.95409286\n",
      " 0.95373553 0.95338023 0.9530282  0.95267868 0.9523316  0.95198649\n",
      " 0.95164204 0.95129931 0.95095712 0.95061606]\n",
      "21 day output [[0.9502764]]\n",
      "22 day input [0.94137041 0.93893349 0.93922018 0.93735665 0.93649656 0.93706995\n",
      " 0.93807339 0.93549312 0.93434633 0.93649656 0.9375     0.93893349\n",
      " 0.93836009 0.93979358 0.94982798 0.94538417 0.94796445 0.94868119\n",
      " 0.9475344  0.95040138 0.96272936 0.96588303 0.96803326 0.97247706\n",
      " 0.97591743 0.97305046 0.96932339 0.96459289 0.97018349 0.97749427\n",
      " 0.97806766 0.97362385 0.97161697 0.9684633  0.96602638 0.96473624\n",
      " 0.9587156  0.95771216 0.95513188 0.95484518 0.95498853 0.95255161\n",
      " 0.94724771 0.94925459 0.94896789 0.95097477 0.95025803 0.94667431\n",
      " 0.94767775 0.94395069 0.94624427 0.94380734 0.94079702 0.94137041\n",
      " 0.94022362 0.93922018 0.9375     0.93506307 0.93800172 0.94094037\n",
      " 0.94294725 0.94352064 0.94151376 0.94051032 0.94237385 0.9430906\n",
      " 0.94481078 0.94681766 0.94567087 0.9483945  0.9478211  0.96000573\n",
      " 0.95971904 0.96029243 0.96301606 0.95957569 0.95971904 0.95971904\n",
      " 0.95296276 0.95422679 0.95505595 0.95550507 0.95565838 0.95560068\n",
      " 0.95540464 0.9551242  0.95479774 0.95444959 0.95409286 0.95373553\n",
      " 0.95338023 0.9530282  0.95267868 0.9523316  0.95198649 0.95164204\n",
      " 0.95129931 0.95095712 0.95061606 0.95027637]\n",
      "22 day output [[0.94993764]]\n",
      "23 day input [0.93893349 0.93922018 0.93735665 0.93649656 0.93706995 0.93807339\n",
      " 0.93549312 0.93434633 0.93649656 0.9375     0.93893349 0.93836009\n",
      " 0.93979358 0.94982798 0.94538417 0.94796445 0.94868119 0.9475344\n",
      " 0.95040138 0.96272936 0.96588303 0.96803326 0.97247706 0.97591743\n",
      " 0.97305046 0.96932339 0.96459289 0.97018349 0.97749427 0.97806766\n",
      " 0.97362385 0.97161697 0.9684633  0.96602638 0.96473624 0.9587156\n",
      " 0.95771216 0.95513188 0.95484518 0.95498853 0.95255161 0.94724771\n",
      " 0.94925459 0.94896789 0.95097477 0.95025803 0.94667431 0.94767775\n",
      " 0.94395069 0.94624427 0.94380734 0.94079702 0.94137041 0.94022362\n",
      " 0.93922018 0.9375     0.93506307 0.93800172 0.94094037 0.94294725\n",
      " 0.94352064 0.94151376 0.94051032 0.94237385 0.9430906  0.94481078\n",
      " 0.94681766 0.94567087 0.9483945  0.9478211  0.96000573 0.95971904\n",
      " 0.96029243 0.96301606 0.95957569 0.95971904 0.95971904 0.95296276\n",
      " 0.95422679 0.95505595 0.95550507 0.95565838 0.95560068 0.95540464\n",
      " 0.9551242  0.95479774 0.95444959 0.95409286 0.95373553 0.95338023\n",
      " 0.9530282  0.95267868 0.9523316  0.95198649 0.95164204 0.95129931\n",
      " 0.95095712 0.95061606 0.95027637 0.94993764]\n",
      "23 day output [[0.9496004]]\n",
      "24 day input [0.93922018 0.93735665 0.93649656 0.93706995 0.93807339 0.93549312\n",
      " 0.93434633 0.93649656 0.9375     0.93893349 0.93836009 0.93979358\n",
      " 0.94982798 0.94538417 0.94796445 0.94868119 0.9475344  0.95040138\n",
      " 0.96272936 0.96588303 0.96803326 0.97247706 0.97591743 0.97305046\n",
      " 0.96932339 0.96459289 0.97018349 0.97749427 0.97806766 0.97362385\n",
      " 0.97161697 0.9684633  0.96602638 0.96473624 0.9587156  0.95771216\n",
      " 0.95513188 0.95484518 0.95498853 0.95255161 0.94724771 0.94925459\n",
      " 0.94896789 0.95097477 0.95025803 0.94667431 0.94767775 0.94395069\n",
      " 0.94624427 0.94380734 0.94079702 0.94137041 0.94022362 0.93922018\n",
      " 0.9375     0.93506307 0.93800172 0.94094037 0.94294725 0.94352064\n",
      " 0.94151376 0.94051032 0.94237385 0.9430906  0.94481078 0.94681766\n",
      " 0.94567087 0.9483945  0.9478211  0.96000573 0.95971904 0.96029243\n",
      " 0.96301606 0.95957569 0.95971904 0.95971904 0.95296276 0.95422679\n",
      " 0.95505595 0.95550507 0.95565838 0.95560068 0.95540464 0.9551242\n",
      " 0.95479774 0.95444959 0.95409286 0.95373553 0.95338023 0.9530282\n",
      " 0.95267868 0.9523316  0.95198649 0.95164204 0.95129931 0.95095712\n",
      " 0.95061606 0.95027637 0.94993764 0.9496004 ]\n",
      "24 day output [[0.9492642]]\n",
      "25 day input [0.93735665 0.93649656 0.93706995 0.93807339 0.93549312 0.93434633\n",
      " 0.93649656 0.9375     0.93893349 0.93836009 0.93979358 0.94982798\n",
      " 0.94538417 0.94796445 0.94868119 0.9475344  0.95040138 0.96272936\n",
      " 0.96588303 0.96803326 0.97247706 0.97591743 0.97305046 0.96932339\n",
      " 0.96459289 0.97018349 0.97749427 0.97806766 0.97362385 0.97161697\n",
      " 0.9684633  0.96602638 0.96473624 0.9587156  0.95771216 0.95513188\n",
      " 0.95484518 0.95498853 0.95255161 0.94724771 0.94925459 0.94896789\n",
      " 0.95097477 0.95025803 0.94667431 0.94767775 0.94395069 0.94624427\n",
      " 0.94380734 0.94079702 0.94137041 0.94022362 0.93922018 0.9375\n",
      " 0.93506307 0.93800172 0.94094037 0.94294725 0.94352064 0.94151376\n",
      " 0.94051032 0.94237385 0.9430906  0.94481078 0.94681766 0.94567087\n",
      " 0.9483945  0.9478211  0.96000573 0.95971904 0.96029243 0.96301606\n",
      " 0.95957569 0.95971904 0.95971904 0.95296276 0.95422679 0.95505595\n",
      " 0.95550507 0.95565838 0.95560068 0.95540464 0.9551242  0.95479774\n",
      " 0.95444959 0.95409286 0.95373553 0.95338023 0.9530282  0.95267868\n",
      " 0.9523316  0.95198649 0.95164204 0.95129931 0.95095712 0.95061606\n",
      " 0.95027637 0.94993764 0.9496004  0.94926423]\n",
      "25 day output [[0.94892937]]\n",
      "26 day input [0.93649656 0.93706995 0.93807339 0.93549312 0.93434633 0.93649656\n",
      " 0.9375     0.93893349 0.93836009 0.93979358 0.94982798 0.94538417\n",
      " 0.94796445 0.94868119 0.9475344  0.95040138 0.96272936 0.96588303\n",
      " 0.96803326 0.97247706 0.97591743 0.97305046 0.96932339 0.96459289\n",
      " 0.97018349 0.97749427 0.97806766 0.97362385 0.97161697 0.9684633\n",
      " 0.96602638 0.96473624 0.9587156  0.95771216 0.95513188 0.95484518\n",
      " 0.95498853 0.95255161 0.94724771 0.94925459 0.94896789 0.95097477\n",
      " 0.95025803 0.94667431 0.94767775 0.94395069 0.94624427 0.94380734\n",
      " 0.94079702 0.94137041 0.94022362 0.93922018 0.9375     0.93506307\n",
      " 0.93800172 0.94094037 0.94294725 0.94352064 0.94151376 0.94051032\n",
      " 0.94237385 0.9430906  0.94481078 0.94681766 0.94567087 0.9483945\n",
      " 0.9478211  0.96000573 0.95971904 0.96029243 0.96301606 0.95957569\n",
      " 0.95971904 0.95971904 0.95296276 0.95422679 0.95505595 0.95550507\n",
      " 0.95565838 0.95560068 0.95540464 0.9551242  0.95479774 0.95444959\n",
      " 0.95409286 0.95373553 0.95338023 0.9530282  0.95267868 0.9523316\n",
      " 0.95198649 0.95164204 0.95129931 0.95095712 0.95061606 0.95027637\n",
      " 0.94993764 0.9496004  0.94926423 0.94892937]\n",
      "26 day output [[0.9485967]]\n",
      "27 day input [0.93706995 0.93807339 0.93549312 0.93434633 0.93649656 0.9375\n",
      " 0.93893349 0.93836009 0.93979358 0.94982798 0.94538417 0.94796445\n",
      " 0.94868119 0.9475344  0.95040138 0.96272936 0.96588303 0.96803326\n",
      " 0.97247706 0.97591743 0.97305046 0.96932339 0.96459289 0.97018349\n",
      " 0.97749427 0.97806766 0.97362385 0.97161697 0.9684633  0.96602638\n",
      " 0.96473624 0.9587156  0.95771216 0.95513188 0.95484518 0.95498853\n",
      " 0.95255161 0.94724771 0.94925459 0.94896789 0.95097477 0.95025803\n",
      " 0.94667431 0.94767775 0.94395069 0.94624427 0.94380734 0.94079702\n",
      " 0.94137041 0.94022362 0.93922018 0.9375     0.93506307 0.93800172\n",
      " 0.94094037 0.94294725 0.94352064 0.94151376 0.94051032 0.94237385\n",
      " 0.9430906  0.94481078 0.94681766 0.94567087 0.9483945  0.9478211\n",
      " 0.96000573 0.95971904 0.96029243 0.96301606 0.95957569 0.95971904\n",
      " 0.95971904 0.95296276 0.95422679 0.95505595 0.95550507 0.95565838\n",
      " 0.95560068 0.95540464 0.9551242  0.95479774 0.95444959 0.95409286\n",
      " 0.95373553 0.95338023 0.9530282  0.95267868 0.9523316  0.95198649\n",
      " 0.95164204 0.95129931 0.95095712 0.95061606 0.95027637 0.94993764\n",
      " 0.9496004  0.94926423 0.94892937 0.94859672]\n",
      "27 day output [[0.9482646]]\n",
      "28 day input [0.93807339 0.93549312 0.93434633 0.93649656 0.9375     0.93893349\n",
      " 0.93836009 0.93979358 0.94982798 0.94538417 0.94796445 0.94868119\n",
      " 0.9475344  0.95040138 0.96272936 0.96588303 0.96803326 0.97247706\n",
      " 0.97591743 0.97305046 0.96932339 0.96459289 0.97018349 0.97749427\n",
      " 0.97806766 0.97362385 0.97161697 0.9684633  0.96602638 0.96473624\n",
      " 0.9587156  0.95771216 0.95513188 0.95484518 0.95498853 0.95255161\n",
      " 0.94724771 0.94925459 0.94896789 0.95097477 0.95025803 0.94667431\n",
      " 0.94767775 0.94395069 0.94624427 0.94380734 0.94079702 0.94137041\n",
      " 0.94022362 0.93922018 0.9375     0.93506307 0.93800172 0.94094037\n",
      " 0.94294725 0.94352064 0.94151376 0.94051032 0.94237385 0.9430906\n",
      " 0.94481078 0.94681766 0.94567087 0.9483945  0.9478211  0.96000573\n",
      " 0.95971904 0.96029243 0.96301606 0.95957569 0.95971904 0.95971904\n",
      " 0.95296276 0.95422679 0.95505595 0.95550507 0.95565838 0.95560068\n",
      " 0.95540464 0.9551242  0.95479774 0.95444959 0.95409286 0.95373553\n",
      " 0.95338023 0.9530282  0.95267868 0.9523316  0.95198649 0.95164204\n",
      " 0.95129931 0.95095712 0.95061606 0.95027637 0.94993764 0.9496004\n",
      " 0.94926423 0.94892937 0.94859672 0.9482646 ]\n",
      "28 day output [[0.9479343]]\n",
      "29 day input [0.93549312 0.93434633 0.93649656 0.9375     0.93893349 0.93836009\n",
      " 0.93979358 0.94982798 0.94538417 0.94796445 0.94868119 0.9475344\n",
      " 0.95040138 0.96272936 0.96588303 0.96803326 0.97247706 0.97591743\n",
      " 0.97305046 0.96932339 0.96459289 0.97018349 0.97749427 0.97806766\n",
      " 0.97362385 0.97161697 0.9684633  0.96602638 0.96473624 0.9587156\n",
      " 0.95771216 0.95513188 0.95484518 0.95498853 0.95255161 0.94724771\n",
      " 0.94925459 0.94896789 0.95097477 0.95025803 0.94667431 0.94767775\n",
      " 0.94395069 0.94624427 0.94380734 0.94079702 0.94137041 0.94022362\n",
      " 0.93922018 0.9375     0.93506307 0.93800172 0.94094037 0.94294725\n",
      " 0.94352064 0.94151376 0.94051032 0.94237385 0.9430906  0.94481078\n",
      " 0.94681766 0.94567087 0.9483945  0.9478211  0.96000573 0.95971904\n",
      " 0.96029243 0.96301606 0.95957569 0.95971904 0.95971904 0.95296276\n",
      " 0.95422679 0.95505595 0.95550507 0.95565838 0.95560068 0.95540464\n",
      " 0.9551242  0.95479774 0.95444959 0.95409286 0.95373553 0.95338023\n",
      " 0.9530282  0.95267868 0.9523316  0.95198649 0.95164204 0.95129931\n",
      " 0.95095712 0.95061606 0.95027637 0.94993764 0.9496004  0.94926423\n",
      " 0.94892937 0.94859672 0.9482646  0.94793433]\n"
     ]
    },
    {
     "name": "stdout",
     "output_type": "stream",
     "text": [
      "29 day output [[0.94760525]]\n",
      "[[0.9529627561569214], [0.9542267918586731], [0.9550559520721436], [0.9555050730705261], [0.9556583762168884], [0.9556006789207458], [0.9554046392440796], [0.9551241993904114], [0.9547977447509766], [0.9544495940208435], [0.9540928602218628], [0.9537355303764343], [0.9533802270889282], [0.9530282020568848], [0.9526786804199219], [0.9523316025733948], [0.9519864916801453], [0.9516420364379883], [0.9512993097305298], [0.9509571194648743], [0.9506160616874695], [0.9502763748168945], [0.949937641620636], [0.9496003985404968], [0.9492642283439636], [0.9489293694496155], [0.948596715927124], [0.9482645988464355], [0.9479343295097351], [0.9476052522659302]]\n"
     ]
    }
   ],
   "source": [
    "# Demonstrate prediction for next 30 days\n",
    "from numpy import array\n",
    "lst_output = []\n",
    "n_steps = 100\n",
    "i=0\n",
    "while(i<30):\n",
    "    if(len(temp_input)>100):\n",
    "        x_input = np.array(temp_input[1:])\n",
    "        print(\"{} day input {}\".format(i,x_input))\n",
    "        x_input = x_input.reshape(1,-1)\n",
    "        x_input = x_input.reshape((1, n_steps, 1))\n",
    "        yhat = model.predict(x_input,verbose=0)\n",
    "        print(\"{} day output {}\".format(i,yhat))\n",
    "        temp_input.extend(yhat[0].tolist())\n",
    "        temp_input = temp_input[1:]\n",
    "        lst_output.extend(yhat.tolist())\n",
    "        i=i+1\n",
    "    else:\n",
    "        x_input = x_input.reshape((1, n_steps,1))\n",
    "        yhat = model.predict(x_input, verbose=0)\n",
    "        print(yhat[0])\n",
    "        temp_input.extend(yhat[0].tolist())\n",
    "        print(len(temp_input))\n",
    "        lst_output.extend(yhat.tolist())\n",
    "        i=i+1\n",
    "print(lst_output)"
   ]
  },
  {
   "cell_type": "code",
   "execution_count": 34,
   "metadata": {
    "ExecuteTime": {
     "end_time": "2021-08-20T09:47:40.180362Z",
     "start_time": "2021-08-20T09:47:37.746756Z"
    },
    "id": "028syBEEi9-0"
   },
   "outputs": [],
   "source": [
    "day_new = np.arange(1,101)\n",
    "day_pred = np.arange(101,131)"
   ]
  },
  {
   "cell_type": "code",
   "execution_count": 35,
   "metadata": {
    "ExecuteTime": {
     "end_time": "2021-08-20T09:47:43.065821Z",
     "start_time": "2021-08-20T09:47:40.180362Z"
    },
    "id": "-aKvK1rEi9-0"
   },
   "outputs": [],
   "source": [
    "import matplotlib.pyplot as plt"
   ]
  },
  {
   "cell_type": "code",
   "execution_count": 36,
   "metadata": {
    "ExecuteTime": {
     "end_time": "2021-08-20T09:47:46.205207Z",
     "start_time": "2021-08-20T09:47:43.065821Z"
    },
    "colab": {
     "base_uri": "https://localhost:8080/",
     "height": 0
    },
    "id": "84KkOtZDi9-0",
    "outputId": "729a0695-ace4-4f8f-9e4b-d9cc765d8c86"
   },
   "outputs": [
    {
     "data": {
      "text/plain": [
       "12649"
      ]
     },
     "execution_count": 36,
     "metadata": {},
     "output_type": "execute_result"
    }
   ],
   "source": [
    "len(rate)"
   ]
  },
  {
   "cell_type": "code",
   "execution_count": 37,
   "metadata": {
    "ExecuteTime": {
     "end_time": "2021-08-20T09:47:51.788519Z",
     "start_time": "2021-08-20T09:47:46.213870Z"
    },
    "id": "0GX_Qsxxi9-0"
   },
   "outputs": [],
   "source": [
    "rate1 = rate.tolist()\n",
    "rate1.extend(lst_output)"
   ]
  },
  {
   "cell_type": "code",
   "execution_count": 38,
   "metadata": {
    "ExecuteTime": {
     "end_time": "2021-08-20T09:47:56.547764Z",
     "start_time": "2021-08-20T09:47:51.788519Z"
    },
    "colab": {
     "base_uri": "https://localhost:8080/",
     "height": 0
    },
    "id": "4ryQDKQNAdaB",
    "outputId": "e661d62b-bd46-4214-9285-d343a9c77cd1"
   },
   "outputs": [
    {
     "data": {
      "text/plain": [
       "[[0.011897935779816501],\n",
       " [0.011897935779816501],\n",
       " [0.011611238532110088],\n",
       " [0.011754587155963295],\n",
       " [0.011611238532110088],\n",
       " [0.011611238532110088],\n",
       " [0.011611238532110088],\n",
       " [0.011611238532110088],\n",
       " [0.011611238532110088],\n",
       " [0.011611238532110088]]"
      ]
     },
     "execution_count": 38,
     "metadata": {},
     "output_type": "execute_result"
    }
   ],
   "source": [
    "rate1[:10]"
   ]
  },
  {
   "cell_type": "code",
   "execution_count": 39,
   "metadata": {
    "ExecuteTime": {
     "end_time": "2021-08-20T09:48:00.909949Z",
     "start_time": "2021-08-20T09:47:56.554698Z"
    },
    "colab": {
     "base_uri": "https://localhost:8080/",
     "height": 282
    },
    "id": "utmNBf_7i9-0",
    "outputId": "ab6c1367-e5bb-4542-cd95-7873746dbcd0"
   },
   "outputs": [
    {
     "data": {
      "text/plain": [
       "[<matplotlib.lines.Line2D at 0x2765102eeb0>]"
      ]
     },
     "execution_count": 39,
     "metadata": {},
     "output_type": "execute_result"
    },
    {
     "data": {
      "image/png": "[encoded data removed]",
      "text/plain": [
       "<Figure size 432x288 with 1 Axes>"
      ]
     },
     "metadata": {
      "needs_background": "light"
     },
     "output_type": "display_data"
    }
   ],
   "source": [
    "plt.plot(day_new,scaler.inverse_transform(rate[12549:]))\n",
    "plt.plot(day_pred,scaler.inverse_transform(lst_output))"
   ]
  },
  {
   "cell_type": "code",
   "execution_count": 40,
   "metadata": {
    "ExecuteTime": {
     "end_time": "2021-08-20T09:48:07.767749Z",
     "start_time": "2021-08-20T09:48:00.910996Z"
    },
    "colab": {
     "base_uri": "https://localhost:8080/",
     "height": 320
    },
    "id": "DTFTZI_ri9-1",
    "outputId": "e551c6c0-3027-402d-b5a5-6a23ba939199"
   },
   "outputs": [
    {
     "data": {
      "image/png": "[encoded data removed]",
      "text/plain": [
       "<Figure size 864x360 with 1 Axes>"
      ]
     },
     "metadata": {
      "needs_background": "light"
     },
     "output_type": "display_data"
    }
   ],
   "source": [
    "plt.figure(figsize=(12,5))\n",
    "rate1 = rate.tolist()\n",
    "rate1.extend(lst_output)\n",
    "plt.plot(rate1[100:])\n",
    "plt.show()"
   ]
  },
  {
   "cell_type": "code",
   "execution_count": 42,
   "metadata": {
    "ExecuteTime": {
     "end_time": "2021-08-20T09:52:01.850859Z",
     "start_time": "2021-08-20T09:52:01.837893Z"
    }
   },
   "outputs": [
    {
     "data": {
      "text/plain": [
       "array([[73.66868187],\n",
       "       [73.756861  ],\n",
       "       [73.81470322],\n",
       "       [73.8460339 ],\n",
       "       [73.85672832],\n",
       "       [73.85270336],\n",
       "       [73.83902763],\n",
       "       [73.81946415],\n",
       "       [73.79669067],\n",
       "       [73.77240368],\n",
       "       [73.74751793],\n",
       "       [73.7225906 ],\n",
       "       [73.69780464],\n",
       "       [73.67324738],\n",
       "       [73.64886475],\n",
       "       [73.6246526 ],\n",
       "       [73.60057766],\n",
       "       [73.57654846],\n",
       "       [73.55263985],\n",
       "       [73.52876865],\n",
       "       [73.50497646],\n",
       "       [73.48127991],\n",
       "       [73.45764988],\n",
       "       [73.4341238 ],\n",
       "       [73.41067257],\n",
       "       [73.38731281],\n",
       "       [73.3641069 ],\n",
       "       [73.34093842],\n",
       "       [73.31789883],\n",
       "       [73.2949424 ]])"
      ]
     },
     "execution_count": 42,
     "metadata": {},
     "output_type": "execute_result"
    }
   ],
   "source": [
    "inv=scaler.inverse_transform(lst_output)\n",
    "inv"
   ]
  },
  {
   "cell_type": "code",
   "execution_count": 43,
   "metadata": {
    "ExecuteTime": {
     "end_time": "2021-08-20T09:53:40.809827Z",
     "start_time": "2021-08-20T09:53:40.762923Z"
    }
   },
   "outputs": [
    {
     "data": {
      "text/html": [
       "<div>\n",
       "<style scoped>\n",
       "    .dataframe tbody tr th:only-of-type {\n",
       "        vertical-align: middle;\n",
       "    }\n",
       "\n",
       "    .dataframe tbody tr th {\n",
       "        vertical-align: top;\n",
       "    }\n",
       "\n",
       "    .dataframe thead th {\n",
       "        text-align: right;\n",
       "    }\n",
       "</style>\n",
       "<table border=\"1\" class=\"dataframe\">\n",
       "  <thead>\n",
       "    <tr style=\"text-align: right;\">\n",
       "      <th></th>\n",
       "      <th>Date</th>\n",
       "      <th>Dexinus</th>\n",
       "    </tr>\n",
       "  </thead>\n",
       "  <tbody>\n",
       "    <tr>\n",
       "      <th>12644</th>\n",
       "      <td>2021-06-21</td>\n",
       "      <td>74.18</td>\n",
       "    </tr>\n",
       "    <tr>\n",
       "      <th>12645</th>\n",
       "      <td>2021-06-22</td>\n",
       "      <td>74.37</td>\n",
       "    </tr>\n",
       "    <tr>\n",
       "      <th>12646</th>\n",
       "      <td>2021-06-23</td>\n",
       "      <td>74.13</td>\n",
       "    </tr>\n",
       "    <tr>\n",
       "      <th>12647</th>\n",
       "      <td>2021-06-24</td>\n",
       "      <td>74.14</td>\n",
       "    </tr>\n",
       "    <tr>\n",
       "      <th>12648</th>\n",
       "      <td>2021-06-25</td>\n",
       "      <td>74.14</td>\n",
       "    </tr>\n",
       "  </tbody>\n",
       "</table>\n",
       "</div>"
      ],
      "text/plain": [
       "            Date  Dexinus\n",
       "12644 2021-06-21    74.18\n",
       "12645 2021-06-22    74.37\n",
       "12646 2021-06-23    74.13\n",
       "12647 2021-06-24    74.14\n",
       "12648 2021-06-25    74.14"
      ]
     },
     "execution_count": 43,
     "metadata": {},
     "output_type": "execute_result"
    }
   ],
   "source": [
    "ex_rate.tail()"
   ]
  },
  {
   "cell_type": "code",
   "execution_count": null,
   "metadata": {},
   "outputs": [],
   "source": []
  },
  {
   "cell_type": "code",
   "execution_count": null,
   "metadata": {},
   "outputs": [],
   "source": []
  }
 ],
 "metadata": {
  "colab": {
   "name": "LSTM model-irfan.ipynb",
   "provenance": []
  },
  "hide_input": false,
  "kernelspec": {
   "display_name": "Python 3",
   "language": "python",
   "name": "python3"
  },
  "language_info": {
   "codemirror_mode": {
    "name": "ipython",
    "version": 3
   },
   "file_extension": ".py",
   "mimetype": "text/x-python",
   "name": "python",
   "nbconvert_exporter": "python",
   "pygments_lexer": "ipython3",
   "version": "3.8.5"
  },
  "toc": {
   "base_numbering": 1,
   "nav_menu": {},
   "number_sections": true,
   "sideBar": true,
   "skip_h1_title": false,
   "title_cell": "Table of Contents",
   "title_sidebar": "Contents",
   "toc_cell": false,
   "toc_position": {},
   "toc_section_display": true,
   "toc_window_display": false
  },
  "varInspector": {
   "cols": {
    "lenName": 16,
    "lenType": 16,
    "lenVar": 40
   },
   "kernels_config": {
    "python": {
     "delete_cmd_postfix": "",
     "delete_cmd_prefix": "del ",
     "library": "var_list.py",
     "varRefreshCmd": "print(var_dic_list())"
    },
    "r": {
     "delete_cmd_postfix": ") ",
     "delete_cmd_prefix": "rm(",
     "library": "var_list.r",
     "varRefreshCmd": "cat(var_dic_list()) "
    }
   },
   "types_to_exclude": [
    "module",
    "function",
    "builtin_function_or_method",
    "instance",
    "_Feature"
   ],
   "window_display": false
  }
 },
 "nbformat": 4,
 "nbformat_minor": 1
}
